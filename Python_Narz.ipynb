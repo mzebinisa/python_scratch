{
 "cells": [
  {
   "cell_type": "code",
   "execution_count": 4,
   "id": "5a86db44-9867-400d-8799-f87d2a5f4595",
   "metadata": {},
   "outputs": [
    {
     "name": "stdout",
     "output_type": "stream",
     "text": [
      "Hello World\n"
     ]
    }
   ],
   "source": [
    "print(\"Hello World\")"
   ]
  },
  {
   "cell_type": "code",
   "execution_count": 5,
   "id": "49c054bb-fb54-48b7-b519-05554e4fadd0",
   "metadata": {},
   "outputs": [
    {
     "name": "stdout",
     "output_type": "stream",
     "text": [
      "Assalom alaykum\n"
     ]
    }
   ],
   "source": [
    "print(\"Assalom alaykum\")"
   ]
  },
  {
   "cell_type": "code",
   "execution_count": 6,
   "id": "cd567f68-c421-441c-8332-82923a3f80d0",
   "metadata": {},
   "outputs": [
    {
     "ename": "SyntaxError",
     "evalue": "invalid syntax. Perhaps you forgot a comma? (1086259611.py, line 1)",
     "output_type": "error",
     "traceback": [
      "\u001b[1;36m  Cell \u001b[1;32mIn[6], line 1\u001b[1;36m\u001b[0m\n\u001b[1;33m    print(Xayrli tong)\u001b[0m\n\u001b[1;37m          ^\u001b[0m\n\u001b[1;31mSyntaxError\u001b[0m\u001b[1;31m:\u001b[0m invalid syntax. Perhaps you forgot a comma?\n"
     ]
    }
   ],
   "source": [
    "print(Xayrli tong)"
   ]
  },
  {
   "cell_type": "code",
   "execution_count": 7,
   "id": "0e6b3877-6d39-42a0-bb33-5b9d31949cdf",
   "metadata": {},
   "outputs": [
    {
     "name": "stdout",
     "output_type": "stream",
     "text": [
      "13\n"
     ]
    }
   ],
   "source": [
    "print(3+5*2)"
   ]
  },
  {
   "cell_type": "code",
   "execution_count": 8,
   "id": "46181b62-ddc4-4f11-b8fc-01963924be90",
   "metadata": {},
   "outputs": [
    {
     "name": "stdout",
     "output_type": "stream",
     "text": [
      "16\n"
     ]
    }
   ],
   "source": [
    "print(2**4)"
   ]
  },
  {
   "cell_type": "code",
   "execution_count": 11,
   "id": "38e821af-1b10-4687-a121-fb8710c4592e",
   "metadata": {},
   "outputs": [
    {
     "name": "stdout",
     "output_type": "stream",
     "text": [
      "Hayrli tong\n",
      "aziz dostlay!\n",
      "Yahshimisiz\n"
     ]
    }
   ],
   "source": [
    "print(\"\"\"Hayrli tong\n",
    "aziz dostlay!\n",
    "Yahshimisiz\"\"\")"
   ]
  },
  {
   "cell_type": "code",
   "execution_count": 12,
   "id": "875c9521-537c-40ad-96bd-e396404f151d",
   "metadata": {},
   "outputs": [
    {
     "name": "stdout",
     "output_type": "stream",
     "text": [
      "Yashhiotga bir qamchi,\n",
      "yomon otga ming qamchi\n"
     ]
    }
   ],
   "source": [
    "print(\"Yashhiotga bir qamchi,\\nyomon otga ming qamchi\")"
   ]
  },
  {
   "cell_type": "code",
   "execution_count": null,
   "id": "9b8ee4fb-d07f-4d04-af0f-685f5531166e",
   "metadata": {},
   "outputs": [],
   "source": []
  },
  {
   "cell_type": "code",
   "execution_count": 13,
   "id": "bb519176-596b-43f2-b8a3-e5c5facd6a96",
   "metadata": {},
   "outputs": [
    {
     "name": "stdout",
     "output_type": "stream",
     "text": [
      "men 'dell' markali kompyutewr sotib oldim\n"
     ]
    }
   ],
   "source": [
    "print(\"men 'dell' markali kompyutewr sotib oldim\")"
   ]
  },
  {
   "cell_type": "code",
   "execution_count": 15,
   "id": "8aa14727-f416-48ed-81d9-1daa552dfb72",
   "metadata": {},
   "outputs": [
    {
     "name": "stdout",
     "output_type": "stream",
     "text": [
      "men \"dell\" markali komyuter sotib oldim\n"
     ]
    }
   ],
   "source": [
    "print(\"men \\\"dell\\\" markali komyuter sotib oldim\")"
   ]
  },
  {
   "cell_type": "code",
   "execution_count": 19,
   "id": "c4f3b061-0afa-4057-b284-5876e6df241c",
   "metadata": {},
   "outputs": [
    {
     "ename": "SyntaxError",
     "evalue": "invalid syntax. Perhaps you forgot a comma? (3520852540.py, line 1)",
     "output_type": "error",
     "traceback": [
      "\u001b[1;36m  Cell \u001b[1;32mIn[19], line 1\u001b[1;36m\u001b[0m\n\u001b[1;33m    print(\"men \"dell\" markali komyuter sotib oldim\")\u001b[0m\n\u001b[1;37m          ^\u001b[0m\n\u001b[1;31mSyntaxError\u001b[0m\u001b[1;31m:\u001b[0m invalid syntax. Perhaps you forgot a comma?\n"
     ]
    }
   ],
   "source": [
    "print(\"men \"dell\" markali komyuter sotib oldim\")"
   ]
  },
  {
   "cell_type": "raw",
   "id": "f826871d-8064-427e-9aa8-b3e2a10d1acc",
   "metadata": {},
   "source": [
    "Arifmetik amallar"
   ]
  },
  {
   "cell_type": "code",
   "execution_count": 20,
   "id": "4c93cb8a-ede7-449d-9b27-42489b5395f1",
   "metadata": {},
   "outputs": [
    {
     "name": "stdout",
     "output_type": "stream",
     "text": [
      "10\n"
     ]
    }
   ],
   "source": [
    "print(2+4*2)"
   ]
  },
  {
   "cell_type": "code",
   "execution_count": 21,
   "id": "cb02b708-9a63-4d44-a89c-59013bafc3d1",
   "metadata": {},
   "outputs": [
    {
     "name": "stdout",
     "output_type": "stream",
     "text": [
      "3.8\n"
     ]
    }
   ],
   "source": [
    "print(19/5)"
   ]
  },
  {
   "cell_type": "code",
   "execution_count": 22,
   "id": "3b6f25e8-3c7e-40fd-85e4-6e51ea7c426c",
   "metadata": {},
   "outputs": [
    {
     "name": "stdout",
     "output_type": "stream",
     "text": [
      "4.0\n"
     ]
    }
   ],
   "source": [
    "print(20/5)"
   ]
  },
  {
   "cell_type": "code",
   "execution_count": 24,
   "id": "268620d2-fb78-4e4e-a7d3-95ba086de8f2",
   "metadata": {},
   "outputs": [
    {
     "name": "stdout",
     "output_type": "stream",
     "text": [
      "3\n"
     ]
    }
   ],
   "source": [
    "print(10//3) #Bolish amalidan butun son olish uchun // belgisidan foydalanish kk"
   ]
  },
  {
   "cell_type": "code",
   "execution_count": 25,
   "id": "bed990b0-9337-4eb2-834a-e9a33ca753a0",
   "metadata": {},
   "outputs": [
    {
     "name": "stdout",
     "output_type": "stream",
     "text": [
      "16\n"
     ]
    }
   ],
   "source": [
    "print(2**4)"
   ]
  },
  {
   "cell_type": "code",
   "execution_count": 26,
   "id": "9137b007-d8c0-4e78-88f8-3d0d8ef4a1aa",
   "metadata": {},
   "outputs": [
    {
     "name": "stdout",
     "output_type": "stream",
     "text": [
      "Toqqizning kvadrati 81 ga teng\n"
     ]
    }
   ],
   "source": [
    "print (\"Toqqizning kvadrati\", 9**2,\"ga teng\")"
   ]
  },
  {
   "cell_type": "raw",
   "id": "bf179daf-2ca7-4867-b6db-d7a728f6d727",
   "metadata": {},
   "source": [
    "#// bolish va bolinmaning butun qismini olib beriw uchun belgi, % bolinmaning qoldigini olish uchun belgi"
   ]
  },
  {
   "cell_type": "code",
   "execution_count": 28,
   "id": "5c951f69-9945-4755-8fb8-3aaf85e90f7e",
   "metadata": {},
   "outputs": [
    {
     "data": {
      "text/plain": [
       "3"
      ]
     },
     "execution_count": 28,
     "metadata": {},
     "output_type": "execute_result"
    }
   ],
   "source": [
    "15%6"
   ]
  },
  {
   "cell_type": "markdown",
   "id": "c8a8dcb4-985a-4ad4-8863-e2aaa23b1bca",
   "metadata": {},
   "source": [
    "#Izohlar"
   ]
  },
  {
   "cell_type": "code",
   "execution_count": 29,
   "id": "52c67ec7-2898-402e-befa-ff9557e62c13",
   "metadata": {},
   "outputs": [
    {
     "name": "stdout",
     "output_type": "stream",
     "text": [
      "31.4159\n"
     ]
    }
   ],
   "source": [
    "print(2*5*3.14159)"
   ]
  },
  {
   "cell_type": "code",
   "execution_count": 31,
   "id": "e6786739-8c31-4051-9e6c-111d73c621ca",
   "metadata": {},
   "outputs": [
    {
     "name": "stdout",
     "output_type": "stream",
     "text": [
      "Radiusi 5ga teng bo'lgan aylanmaning uzunligi 31.4159 ga teng\n"
     ]
    }
   ],
   "source": [
    "print(\"Radiusi 5ga teng bo'lgan aylanmaning uzunligi\", 2*5*3.14159, \"ga teng\")"
   ]
  },
  {
   "cell_type": "code",
   "execution_count": 32,
   "id": "d2ec9072-3714-4b45-8f44-5142e067bd80",
   "metadata": {},
   "outputs": [
    {
     "name": "stdout",
     "output_type": "stream",
     "text": [
      "\"Nexia\",\"Tico\", 'Damas', korganlar qilar havas\n"
     ]
    }
   ],
   "source": [
    "print(\"\\\"Nexia\\\",\\\"Tico\\\", 'Damas', korganlar qilar havas\")"
   ]
  },
  {
   "cell_type": "code",
   "execution_count": 33,
   "id": "1968f6bb-ca5d-4152-898f-b172ea48757a",
   "metadata": {},
   "outputs": [
    {
     "name": "stdout",
     "output_type": "stream",
     "text": [
      "5ning 4chi darajasi 625 ga teng\n"
     ]
    }
   ],
   "source": [
    "print(\"5ning 4chi darajasi\", 5**4, \"ga teng\")"
   ]
  },
  {
   "cell_type": "code",
   "execution_count": 39,
   "id": "85589315-5e08-4d1b-831f-6db0a8c3633e",
   "metadata": {},
   "outputs": [
    {
     "name": "stdout",
     "output_type": "stream",
     "text": [
      "Tomonlari 125 ga teng bolgan kvadratning yuzi 15625 ga teng bo'lib, uning perimetri 500 ga teng\n"
     ]
    }
   ],
   "source": [
    "print(\"Tomonlari 125 ga teng bolgan kvadratning yuzi\", 125*125, \"ga teng bo'lib, uning perimetri\", 125*4, \"ga teng\" )"
   ]
  },
  {
   "cell_type": "code",
   "execution_count": 40,
   "id": "9b126840-6034-4b41-9e0d-5edd1b572e16",
   "metadata": {},
   "outputs": [
    {
     "name": "stdout",
     "output_type": "stream",
     "text": [
      "Diametri 12ga teng bolgan doiraning yuzi (pi*r kvadrat) formulasi boyicha hisoblanadi, yani 3.14159*(12/2)**2, yani 113.09724 ga teng\n"
     ]
    }
   ],
   "source": [
    "print(\"Diametri 12ga teng bolgan doiraning yuzi (pi*r kvadrat) formulasi boyicha hisoblanadi, yani 3.14159*(12/2)**2, yani\", (12/2)**2*3.14159, \"ga teng\")"
   ]
  },
  {
   "cell_type": "code",
   "execution_count": 43,
   "id": "d98a9c7a-c051-4af0-8262-5492c7248bbf",
   "metadata": {},
   "outputs": [
    {
     "name": "stdout",
     "output_type": "stream",
     "text": [
      "katetlari 6 va 7 bolgan togri burchakli uchburchakning gipotenuzasi pifagor formulasi boyicha hisoblanganda demak 6**2+7**2 ni ildiz ostidan chiqarilsa gipotenuzasi chiqadi, yani 9.219544457292887 ga teng\n"
     ]
    }
   ],
   "source": [
    "print(\"katetlari 6 va 7 bolgan togri burchakli uchburchakning gipotenuzasi pifagor formulasi boyicha hisoblanganda demak 6**2+7**2 ni ildiz ostidan chiqarilsa gipotenuzasi chiqadi, yani\", ((6**2)+(7**2))**0.5, \"ga teng\")"
   ]
  },
  {
   "cell_type": "code",
   "execution_count": 44,
   "id": "561d2019-982a-4505-99a7-90fc22422c7e",
   "metadata": {},
   "outputs": [
    {
     "name": "stdout",
     "output_type": "stream",
     "text": [
      "Katetlari 6 va 7 bo'lgan to'g'ri burchakli uchburchakning gipotenuzasi 9.219544457292887\n"
     ]
    }
   ],
   "source": [
    "print(\"Katetlari 6 va 7 bo'lgan to'g'ri burchakli uchburchakning gipotenuzasi\", (6**2+7**2)**(1/2))"
   ]
  },
  {
   "cell_type": "code",
   "execution_count": null,
   "id": "8d82fa30-dd00-44f4-84c3-242a5d350c59",
   "metadata": {},
   "outputs": [],
   "source": []
  }
 ],
 "metadata": {
  "kernelspec": {
   "display_name": "Python 3 (ipykernel)",
   "language": "python",
   "name": "python3"
  },
  "language_info": {
   "codemirror_mode": {
    "name": "ipython",
    "version": 3
   },
   "file_extension": ".py",
   "mimetype": "text/x-python",
   "name": "python",
   "nbconvert_exporter": "python",
   "pygments_lexer": "ipython3",
   "version": "3.12.4"
  }
 },
 "nbformat": 4,
 "nbformat_minor": 5
}
